{
 "cells": [
  {
   "cell_type": "code",
   "execution_count": 1,
   "id": "258662a0-e281-4028-9efe-24265ffe5d4d",
   "metadata": {},
   "outputs": [],
   "source": [
    "# !pip3 install -q -r requirements.txt\n",
    "# !pip install swig\n",
    "# !pip install gymnasium[box2d]\n",
    "# !pipreqsnb --force"
   ]
  },
  {
   "cell_type": "code",
   "execution_count": 2,
   "id": "633e5088-1d71-4abd-bdd3-039562cddb86",
   "metadata": {},
   "outputs": [],
   "source": [
    "import matplotlib.pyplot as plt\n",
    "from matplotlib.ticker import MaxNLocator\n",
    "import seaborn as sns\n",
    "import tqdm.notebook as tqdm\n",
    "\n",
    "import gymnasium as gym\n",
    "import numpy as np\n",
    "import random\n",
    "import time\n",
    "\n",
    "import torch\n",
    "import torch.nn as nn\n",
    "import torchsummary as summary\n",
    "\n",
    "DEVICE = 'cuda' if torch.cuda.is_available() else 'cpu'\n",
    "\n",
    "from IPython import display"
   ]
  },
  {
   "cell_type": "code",
   "execution_count": 3,
   "id": "10053666-0f2e-4ff2-aa2b-e4c77bc4a425",
   "metadata": {},
   "outputs": [],
   "source": [
    "ENV = gym.make(\"MountainCarContinuous-v0\", render_mode='rgb_array')\n",
    "SS = ENV.observation_space # continuous \n",
    "DIM_S = SS.shape[0] # 2-dimensional (position, velocity) continuous, [-inf, +inf] for both\n",
    "AS = ENV.action_space # finite action space, 4 actions\n",
    "DIM_A = AS.shape[0] # 1-dimensional continuous force within [-1, +1] range"
   ]
  },
  {
   "cell_type": "code",
   "execution_count": 4,
   "id": "efdedb88-8fe2-4558-b93f-1ffb603b8a09",
   "metadata": {},
   "outputs": [
    {
     "data": {
      "text/plain": [
       "(array([-0.40667263,  0.        ], dtype=float32), {})"
      ]
     },
     "execution_count": 4,
     "metadata": {},
     "output_type": "execute_result"
    }
   ],
   "source": [
    "# stochastic init state\n",
    "ENV.reset()"
   ]
  },
  {
   "cell_type": "code",
   "execution_count": 5,
   "id": "9f8bdad6-2fe6-4dd4-9399-07e44ed1e15c",
   "metadata": {},
   "outputs": [],
   "source": [
    "def rr(env=ENV):\n",
    "    \"\"\"quick render fix assuming env's render_mode='rgb_array' \"\"\"\n",
    "    # plt.figure(figsize=(5,10))\n",
    "    plt.axis('off')\n",
    "    plt.imshow(env.render())\n",
    "               \n",
    "def act(action, env=ENV):\n",
    "    \"\"\"filters unnecessary output\"\"\"\n",
    "    return env.step(action)[:3]"
   ]
  },
  {
   "cell_type": "code",
   "execution_count": 6,
   "id": "491863d3-e621-4e80-aa2b-97ed10798d85",
   "metadata": {},
   "outputs": [
    {
     "data": {
      "text/plain": [
       "(array([-0.4070817 , -0.00040907], dtype=float32), -0.009, False)"
      ]
     },
     "execution_count": 6,
     "metadata": {},
     "output_type": "execute_result"
    }
   ],
   "source": [
    "new_state = act(np.array([0.3])) # [state, reward, done, info, ...]\n",
    "new_state"
   ]
  },
  {
   "cell_type": "code",
   "execution_count": 7,
   "id": "2e8f4007-cce1-4583-b424-bcf178bdfad7",
   "metadata": {},
   "outputs": [],
   "source": [
    "class CRandAgent():\n",
    "    \"\"\"baseline agent that performs random actions=np.arrays with shape (1,) and values within [-1, 1]\"\"\"\n",
    "    def __init__(self, d_actions=DIM_A):\n",
    "        self.d_actions = d_actions\n",
    "        \n",
    "    def act(self, state):\n",
    "        action = np.random.uniform(low=-1, high=1, size=self.d_actions)\n",
    "        # print('RANDOM!!')\n",
    "        return action\n",
    "\n",
    "    def walk(self, max_length, render=False, **actkwargs):\n",
    "        \"\"\"take max_length actions by agent N\"\"\"\n",
    "        states, actions, rewards = [], [], []\n",
    "        # initialization state\n",
    "        state = ENV.reset()[0]\n",
    "        for i in range(max_length):\n",
    "            # perform an action\n",
    "            action = self.act(state, **actkwargs)\n",
    "            new_state, reward, done = act(action)\n",
    "            # log \n",
    "            actions.append(action)\n",
    "            states.append(state) # append OLD state, everything breaks if you start from new\n",
    "            rewards.append(reward)\n",
    "            state = new_state\n",
    "            # continuos visualization w/ proper interrupt\n",
    "            if render:\n",
    "                try:\n",
    "                    rr()\n",
    "                    display.display(plt.gcf())\n",
    "                    display.clear_output(wait=True)\n",
    "                    time.sleep(1e-4)\n",
    "                except KeyboardInterrupt:\n",
    "                    break\n",
    "            if done:\n",
    "                break\n",
    "        trajectory = {'s': states,\n",
    "                        'a': actions,\n",
    "                            'r': rewards,}\n",
    "        return trajectory"
   ]
  },
  {
   "cell_type": "code",
   "execution_count": 8,
   "id": "0ce50f0d-b7e8-4e3c-b496-271e74ed5a10",
   "metadata": {},
   "outputs": [
    {
     "data": {
      "text/plain": [
       "-0.5954364017328574"
      ]
     },
     "execution_count": 8,
     "metadata": {},
     "output_type": "execute_result"
    },
    {
     "data": {
      "image/png": "[encoded data removed]",
      "text/plain": [
       "<Figure size 640x480 with 1 Axes>"
      ]
     },
     "metadata": {},
     "output_type": "display_data"
    }
   ],
   "source": [
    "agent = CRandAgent()\n",
    "results = agent.walk(max_length=20, render=True)\n",
    "sum(results['r'])"
   ]
  },
  {
   "cell_type": "code",
   "execution_count": 9,
   "id": "a7b5bb1f-03bd-4c19-a13a-2decc138a217",
   "metadata": {},
   "outputs": [],
   "source": [
    "# auxillary functions\n",
    "def lin_ann_rate(i, n_total):\n",
    "    return 1 - i / n_total\n",
    "\n",
    "def exp_ann_rate(i, thr=0.0001, la=2/300, drop=0.001):\n",
    "    \"\"\"exponential decay with i --> +inf, provides descending values within range [expl_thr, 1],\n",
    "        la=0.01 means ~36% left after 100 iterations, results < drop value are zeroed\"\"\"\n",
    "    exp = np.exp if isinstance(i, np.ndarray) else torch.exp\n",
    "    result = thr + (1 - thr) * exp(- la * i)\n",
    "    if drop:\n",
    "        result[result <= drop] = 0\n",
    "    return result"
   ]
  },
  {
   "cell_type": "code",
   "execution_count": 15,
   "id": "2744d8c2-cba5-4f3c-8712-9944e45f83ec",
   "metadata": {},
   "outputs": [],
   "source": [
    "class CrossEntropyNNCAgent(CRandAgent):\n",
    "    def __init__(self, d_states=DIM_S, d_actions=DIM_A, hidden_d=(16, 4), device=DEVICE):\n",
    "        \"\"\"CrossEntropy algorithm actor, optimizes expected reward by policy, given by neural network\"\"\"\n",
    "        super().__init__(d_actions)\n",
    "        self.d_states = d_states\n",
    "        self.var = 1\n",
    "        \n",
    "        self.loss = nn.MSELoss()\n",
    "        self.device = device\n",
    "        self.model = nn.Sequential(\n",
    "            nn.Linear(in_features=self.d_states, out_features=hidden_d[0]),\n",
    "            nn.ReLU(),\n",
    "            nn.Linear(hidden_d[0], hidden_d[1]),\n",
    "            nn.ReLU(),\n",
    "            nn.Linear(hidden_d[1], d_actions))\n",
    "        \n",
    "        self.log = []\n",
    "        self.hp = {}\n",
    "\n",
    "    def act(self, state):\n",
    "        \"\"\"policy = action given by tanh(network output) + random normal(positive) noise within [0..1] \n",
    "            otherwise this policy would be almost completely deterministic (as NN is except its initialization)\n",
    "            extra tanh here is just to fit result into action space min max limits\"\"\"\n",
    "        with torch.inference_mode():\n",
    "            action = nn.functional.tanh(nn.functional.tanh(self.model(torch.Tensor(state)).detach()) + self.var * torch.randn(self.d_actions))\n",
    "            # torch.Tensor(self.d_actions).uniform_(0, 1)\n",
    "            #torch.randn(self.d_actions)\n",
    "        return action.numpy()\n",
    "\n",
    "    def learning_curve(self, show_max=True, ax=None):\n",
    "        \"\"\"plots rewards vs iterations of algorithm\"\"\"\n",
    "        ax = sns.lineplot(self.log, linewidth=1.0, ax=ax, label=f\"lr={self.hp['lr']}\")\n",
    "        ax.xaxis.set_major_locator(MaxNLocator(integer=True))\n",
    "        ax.set_title(f\"Mean reward over {self.hp['n_trajectories']} trajectories of length < {self.hp['max_length']}\", fontsize = 10)\n",
    "        ax.set_xlabel('iterations - 1')\n",
    "        # ax.set_yscale('symlog')\n",
    "        ax.legend()\n",
    "        if show_max:\n",
    "            ax.axhline(y=max(self.log), color='r', linestyle='-', linewidth=0.5)\n",
    "        return ax\n",
    "        \n",
    "        \n",
    "    def fit(self, n_iterations, max_n_epochs, noise_var=1, lr=0.01, n_trajectories=100, max_length=50, q=0.8, verbose=None):\n",
    "        \"\"\"\n",
    "        CE Algorithm has 2 steps per iteration: evaluate policy, improve policy\n",
    "        Our goal is to maximize expected reward ER which is unreachable => approximated\n",
    "        \n",
    "        n_trajectories (w/ length <= max_length) defines quality of ER approximation\n",
    "        0<q<1 controls rejected quantile of trajectories\n",
    "\n",
    "        max_n_epochs controls max possible NN training epochs per each iteration\n",
    "\n",
    "        lr defines learning rate of built-in Adam optimizer\n",
    "        \n",
    "        verbose>0 sets up a period of learning process rendering\n",
    "\n",
    "        NB: .fit internally uses .act method of child class(this), doesn't inherit parental\n",
    "        \"\"\"\n",
    "        # save fitting hyperparameters for comparison\n",
    "        ap = locals()\n",
    "        self.hp = {k: ap[k] for k in ap.keys() - ['self', 'verbose', 'n_iterations', 'n_epochs']}\n",
    "        self.model.to(self.device)\n",
    "        optimizer = torch.optim.Adam(self.model.parameters(), lr=lr)\n",
    "        iterations_pbar = tqdm.trange(n_iterations, position=0, leave=True, colour=\"#a2d2ff\")\n",
    "        dh = display.display(display_id=True)\n",
    "        var_0 = noise_var\n",
    "        vars = []\n",
    "        for i in iterations_pbar:\n",
    "            self.model.eval()\n",
    "            # policy evaluation (act with current policy or sample n_det deterministic from that one)\n",
    "            trajectories = [self.walk(max_length=max_length) for t in range(n_trajectories)]\n",
    "            rewards = np.stack([np.sum(t['r']) for t in trajectories])\n",
    "            avg_reward = np.mean(rewards)\n",
    "            self.log.append(avg_reward)\n",
    "\n",
    "            # policy improvement\n",
    "            # get q-quantile of current reward distribution and filter out better trajectories\n",
    "            gamma = np.quantile(rewards, q)\n",
    "            elite_ids = (rewards > gamma).nonzero()[0]\n",
    "            if elite_ids.any():\n",
    "                # extract (lists of) state and (corresponding) action tensors from elite trajectories\n",
    "                states_l, actions_l = zip(*((np.stack(trajectories[ei]['s']), np.stack(trajectories[ei]['a'])) for ei in elite_ids))\n",
    "                states, actions = torch.Tensor(np.concatenate(states_l)).to(self.device), torch.Tensor(np.concatenate(actions_l)).to(self.device)\n",
    "                epochs_pbar = [0] if (max_n_epochs == 1 or i==0) else tqdm.trange(n_epochs, position=1, leave=False, colour=\"#ffc8dd\") # order matters\n",
    "                self.model.train()\n",
    "                for e in epochs_pbar:\n",
    "                    # forward pass\n",
    "                    pred_actions = self.model(states)\n",
    "                    loss = self.loss(pred_actions, actions)\n",
    "                    # backward pass\n",
    "                    optimizer.zero_grad()\n",
    "                    loss.backward()\n",
    "                    optimizer.step()\n",
    "                # noise variance (descends from var_0 to 0)\n",
    "                self.var = var_0 * lin_ann_rate(i, n_total=n_iterations)\n",
    "                vars.append(self.var)\n",
    "                # less stochastic gradients (ascending from 1 to max_n_epochs)\n",
    "                n_epochs = 1 + round((1 - exp_ann_rate(torch.Tensor([i]), thr=0, la=2/n_iterations, drop=None).item()) * (max_n_epochs - 1))\n",
    "                iterations_pbar.set_postfix_str(f'avg reward: {avg_reward.item():.2f}, loss: {loss.detach().item():.2e}, var: {self.var:.2f}, n_epochs: {n_epochs}', refresh=True)\n",
    "            \n",
    "            # visualization (plotting starts after at least 1 iteration)\n",
    "            if verbose and i > 0 and (i + 1) % verbose == 0:\n",
    "                # print(f\"iteration {i + 1}, mean total reward: {avg_reward}\")\n",
    "                figure, axes = plt.subplots(1, 2, figsize=(12,5))\n",
    "                ax = self.learning_curve(ax=axes[0])\n",
    "                \n",
    "                ax2 = ax.twinx()\n",
    "                ax2.tick_params(axis='y', labelcolor='slateblue')\n",
    "                sns.lineplot(vars, linewidth=0.5, ax=ax2, label=\"variance\", color='slateblue')\n",
    "                \n",
    "                ax = sns.histplot(rewards, kde=False, bins=20, ax=axes[1])\n",
    "                ax.axvline(gamma, 0, 20, color='r')\n",
    "                ax.set_xlabel('Rewards')\n",
    "                ax.set_title(f'Current distribution of rewards and its {q:.2f}-quantile ', fontsize = 10)\n",
    "                \n",
    "                dh.update(plt.gcf())\n",
    "                plt.close() # because plt.clf() is spurious\n",
    "        return avg_reward"
   ]
  },
  {
   "cell_type": "code",
   "execution_count": null,
   "id": "e3306e1b-b934-4c32-b0fb-289e3e77935f",
   "metadata": {},
   "outputs": [
    {
     "data": {
      "application/vnd.jupyter.widget-view+json": {
       "model_id": "f290486769a74abaad64728a73392930",
       "version_major": 2,
       "version_minor": 0
      },
      "text/plain": [
       "  0%|          | 0/100 [00:00<?, ?it/s]"
      ]
     },
     "metadata": {},
     "output_type": "display_data"
    },
    {
     "data": {},
     "metadata": {},
     "output_type": "display_data"
    }
   ],
   "source": [
    "agent_nnc = CrossEntropyNNCAgent()\n",
    "agent_nnc.fit(n_iterations=100, max_n_epochs=10, noise_var=1, lr=0.01, n_trajectories=60, max_length=1000, q=0.8, verbose=1)"
   ]
  },
  {
   "cell_type": "code",
   "execution_count": null,
   "id": "906ef79e-9d1f-47bf-928c-c7da88d460f5",
   "metadata": {},
   "outputs": [],
   "source": [
    "results = agent_nnc.walk(max_length=100, render=False)\n",
    "sum(results['r'])"
   ]
  },
  {
   "cell_type": "code",
   "execution_count": null,
   "id": "61f56305-3c31-45b5-9429-68e667cc5d65",
   "metadata": {},
   "outputs": [],
   "source": []
  }
 ],
 "metadata": {
  "kernelspec": {
   "display_name": "Python 3 (ipykernel)",
   "language": "python",
   "name": "python3"
  },
  "language_info": {
   "codemirror_mode": {
    "name": "ipython",
    "version": 3
   },
   "file_extension": ".py",
   "mimetype": "text/x-python",
   "name": "python",
   "nbconvert_exporter": "python",
   "pygments_lexer": "ipython3",
   "version": "3.11.4"
  }
 },
 "nbformat": 4,
 "nbformat_minor": 5
}
