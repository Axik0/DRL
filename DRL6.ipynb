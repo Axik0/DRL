{
 "cells": [
  {
   "cell_type": "code",
   "execution_count": 1,
   "id": "b8793010-268a-45bf-856e-0751e32ef802",
   "metadata": {},
   "outputs": [],
   "source": [
    "## !pip3 install -q -r requirements.txt\n",
    "# !pipreqsnb --force"
   ]
  },
  {
   "cell_type": "code",
   "execution_count": 7,
   "id": "3f1a1593-34aa-4b90-9949-69c570debeb4",
   "metadata": {},
   "outputs": [],
   "source": [
    "import matplotlib.pyplot as plt\n",
    "from matplotlib.ticker import MaxNLocator\n",
    "import seaborn as sns\n",
    "from IPython import display\n",
    "\n",
    "import gymnasium as gym\n",
    "import numpy as np\n",
    "import random\n",
    "\n",
    "import copy\n",
    "\n",
    "import torch\n",
    "import torch.nn as nn\n",
    "import tqdm.notebook as tqdm"
   ]
  },
  {
   "cell_type": "code",
   "execution_count": 8,
   "id": "c054b98d-7cf0-4940-ace3-1581e8954043",
   "metadata": {},
   "outputs": [],
   "source": [
    "from agents import ModelFreeAgent\n",
    "# from aux_func import LinearAR, ExponentialAR"
   ]
  },
  {
   "cell_type": "code",
   "execution_count": 9,
   "id": "9773d1da-3810-4b77-ba9c-ad43ed3e0bd6",
   "metadata": {},
   "outputs": [],
   "source": [
    "# ENV = gym.make(\"Acrobot-v1\", render_mode=\"rgb_array\")\n",
    "DEVICE = 'cuda' if torch.cuda.is_available() else 'cpu'\n",
    "# ACTIONS_STR = ('-', '0', '+')"
   ]
  },
  {
   "cell_type": "code",
   "execution_count": 10,
   "id": "014c9dbf-55c1-4f14-9a78-d8f085768dca",
   "metadata": {},
   "outputs": [],
   "source": [
    "class PPOAgent(ModelFreeAgent):\n",
    "    def __init__(self, env, aid_to_str, hidden_d=(64, 32), device=DEVICE):\n",
    "        super().__init__(env=env, aid_to_str=aid_to_str)\n",
    "        \n",
    "        self.loss = nn.MSELoss()\n",
    "        self.device = device\n",
    "\n",
    "        # model for a value function (scalar)\n",
    "        self.V_model = nn.Sequential(\n",
    "            nn.Linear(in_features=self.d_states, out_features=hidden_d[0]),\n",
    "            nn.ReLU(),\n",
    "            nn.Linear(in_features=hidden_d[0], out_features=hidden_d[1]),\n",
    "            nn.ReLU(),\n",
    "            nn.Linear(hidden_d[1], 1))\n",
    "        \n",
    "        # predicts parameters mu, std of action distribution (implying that's a Normal d.)\n",
    "        self.pi_model = nn.Sequential(\n",
    "            nn.Linear(in_features=self.d_states, out_features=hidden_d[0]),\n",
    "            nn.ReLU(),\n",
    "            nn.Linear(in_features=hidden_d[0], out_features=hidden_d[1]),\n",
    "            nn.ReLU(),\n",
    "            nn.Linear(hidden_d[1], 2 * self.n_actions)\n",
    "            nn.Tanh())\n",
    "\n",
    "        self.fly = self.dq_step     \n",
    "\n",
    "    def act(self, state):\n",
    "        # use current model to get (epsilon-greedy) action distribution for next action\n",
    "        \n",
    "        action_d = self.gi(self.Q(state).squeeze().numpy(), self.curr_eps)\n",
    "        return np.random.choice(self.n_actions, p=action_d)"
   ]
  },
  {
   "cell_type": "code",
   "execution_count": null,
   "id": "c751d02b-d887-4f8b-b357-543033e19240",
   "metadata": {},
   "outputs": [],
   "source": []
  }
 ],
 "metadata": {
  "kernelspec": {
   "display_name": "Python 3 (ipykernel)",
   "language": "python",
   "name": "python3"
  },
  "language_info": {
   "codemirror_mode": {
    "name": "ipython",
    "version": 3
   },
   "file_extension": ".py",
   "mimetype": "text/x-python",
   "name": "python",
   "nbconvert_exporter": "python",
   "pygments_lexer": "ipython3",
   "version": "3.11.4"
  }
 },
 "nbformat": 4,
 "nbformat_minor": 5
}
